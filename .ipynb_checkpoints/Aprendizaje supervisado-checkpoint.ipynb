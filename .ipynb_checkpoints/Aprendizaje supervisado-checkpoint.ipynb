{
 "cells": [
  {
   "cell_type": "markdown",
   "metadata": {},
   "source": [
    "# Beta Bank"
   ]
  },
  {
   "cell_type": "markdown",
   "metadata": {},
   "source": [
    "Los clientes de Beta Bank se están yendo, cada mes, poco a poco. Se descubrio que es más barato salvar a los clientes existentes que atraer nuevos.\n",
    "\n",
    "Necesitamos predecir si un cliente dejará el banco pronto. Tú tienes los datos sobre el comportamiento pasado de los clientes y la terminación de contratos con el banco.\n",
    "\n",
    "Dentro del dataframe vamos a encontrar los siguientes datos:\n",
    "- `RowNumber`: índice de cadena de datos\n",
    "- `CustomerId`: identificador de cliente único\n",
    "- `Surname`: apellido\n",
    "- `CreditScore`: valor de crédito\n",
    "- `Geography`: país de residencia\n",
    "- `Gender`: sexo\n",
    "- `Age`: edad\n",
    "- `Tenure`: período durante el cual ha madurado el depósito a plazo fijo de un cliente (años)\n",
    "- `Balance`: saldo de la cuenta\n",
    "- `NumOfProducts`: número de productos bancarios utilizados por el cliente\n",
    "- `HasCrCard`: el cliente tiene una tarjeta de crédito (1 - sí; 0 - no)\n",
    "- `IsActiveMember`: actividad del cliente (1 - sí; 0 - no)\n",
    "- `EstimatedSalary`: salario estimado\n",
    "\n",
    "Nuestro Objetivo\n",
    "- `Exited`: El cliente se ha ido (1 - sí; 0 - no)"
   ]
  },
  {
   "cell_type": "markdown",
   "metadata": {},
   "source": [
    "Importar datos"
   ]
  },
  {
   "cell_type": "code",
   "execution_count": 1,
   "metadata": {},
   "outputs": [],
   "source": [
    "import pandas as pd\n",
    "import matplotlib.pyplot as plt\n",
    "import seaborn as sns\n",
    "import numpy as np\n",
    "from sklearn.linear_model import LogisticRegression\n",
    "from sklearn.model_selection import train_test_split\n",
    "from sklearn.metrics import accuracy_score, precision_score, recall_score, f1_score\n",
    "from sklearn.utils import shuffle\n",
    "from sklearn.metrics import roc_curve, roc_auc_score\n",
    "from sklearn.metrics import roc_curve, auc\n",
    "from sklearn.tree import DecisionTreeClassifier\n",
    "from sklearn.metrics import confusion_matrix\n",
    "from imblearn.under_sampling import RandomUnderSampler\n",
    "from imblearn.over_sampling import RandomOverSampler\n",
    "from sklearn.ensemble import RandomForestClassifier\n",
    "from imblearn.under_sampling import RandomUnderSampler\n",
    "from imblearn.over_sampling import RandomOverSampler\n",
    "from imblearn.over_sampling import SMOTE\n",
    "from sklearn.model_selection import GridSearchCV\n"
   ]
  },
  {
   "cell_type": "markdown",
   "metadata": {},
   "source": [
    "Carga de datos"
   ]
  },
  {
   "cell_type": "code",
   "execution_count": 2,
   "metadata": {},
   "outputs": [],
   "source": [
    "df = pd.read_csv('/datasets/Churn.csv')"
   ]
  },
  {
   "cell_type": "markdown",
   "metadata": {},
   "source": [
    "## Exploración de datos"
   ]
  },
  {
   "cell_type": "markdown",
   "metadata": {},
   "source": [
    "Observación de los datos"
   ]
  },
  {
   "cell_type": "code",
   "execution_count": 3,
   "metadata": {},
   "outputs": [
    {
     "data": {
      "text/html": [
       "<div>\n",
       "<style scoped>\n",
       "    .dataframe tbody tr th:only-of-type {\n",
       "        vertical-align: middle;\n",
       "    }\n",
       "\n",
       "    .dataframe tbody tr th {\n",
       "        vertical-align: top;\n",
       "    }\n",
       "\n",
       "    .dataframe thead th {\n",
       "        text-align: right;\n",
       "    }\n",
       "</style>\n",
       "<table border=\"1\" class=\"dataframe\">\n",
       "  <thead>\n",
       "    <tr style=\"text-align: right;\">\n",
       "      <th></th>\n",
       "      <th>RowNumber</th>\n",
       "      <th>CustomerId</th>\n",
       "      <th>Surname</th>\n",
       "      <th>CreditScore</th>\n",
       "      <th>Geography</th>\n",
       "      <th>Gender</th>\n",
       "      <th>Age</th>\n",
       "      <th>Tenure</th>\n",
       "      <th>Balance</th>\n",
       "      <th>NumOfProducts</th>\n",
       "      <th>HasCrCard</th>\n",
       "      <th>IsActiveMember</th>\n",
       "      <th>EstimatedSalary</th>\n",
       "      <th>Exited</th>\n",
       "    </tr>\n",
       "  </thead>\n",
       "  <tbody>\n",
       "    <tr>\n",
       "      <th>0</th>\n",
       "      <td>1</td>\n",
       "      <td>15634602</td>\n",
       "      <td>Hargrave</td>\n",
       "      <td>619</td>\n",
       "      <td>France</td>\n",
       "      <td>Female</td>\n",
       "      <td>42</td>\n",
       "      <td>2.0</td>\n",
       "      <td>0.00</td>\n",
       "      <td>1</td>\n",
       "      <td>1</td>\n",
       "      <td>1</td>\n",
       "      <td>101348.88</td>\n",
       "      <td>1</td>\n",
       "    </tr>\n",
       "    <tr>\n",
       "      <th>1</th>\n",
       "      <td>2</td>\n",
       "      <td>15647311</td>\n",
       "      <td>Hill</td>\n",
       "      <td>608</td>\n",
       "      <td>Spain</td>\n",
       "      <td>Female</td>\n",
       "      <td>41</td>\n",
       "      <td>1.0</td>\n",
       "      <td>83807.86</td>\n",
       "      <td>1</td>\n",
       "      <td>0</td>\n",
       "      <td>1</td>\n",
       "      <td>112542.58</td>\n",
       "      <td>0</td>\n",
       "    </tr>\n",
       "    <tr>\n",
       "      <th>2</th>\n",
       "      <td>3</td>\n",
       "      <td>15619304</td>\n",
       "      <td>Onio</td>\n",
       "      <td>502</td>\n",
       "      <td>France</td>\n",
       "      <td>Female</td>\n",
       "      <td>42</td>\n",
       "      <td>8.0</td>\n",
       "      <td>159660.80</td>\n",
       "      <td>3</td>\n",
       "      <td>1</td>\n",
       "      <td>0</td>\n",
       "      <td>113931.57</td>\n",
       "      <td>1</td>\n",
       "    </tr>\n",
       "    <tr>\n",
       "      <th>3</th>\n",
       "      <td>4</td>\n",
       "      <td>15701354</td>\n",
       "      <td>Boni</td>\n",
       "      <td>699</td>\n",
       "      <td>France</td>\n",
       "      <td>Female</td>\n",
       "      <td>39</td>\n",
       "      <td>1.0</td>\n",
       "      <td>0.00</td>\n",
       "      <td>2</td>\n",
       "      <td>0</td>\n",
       "      <td>0</td>\n",
       "      <td>93826.63</td>\n",
       "      <td>0</td>\n",
       "    </tr>\n",
       "    <tr>\n",
       "      <th>4</th>\n",
       "      <td>5</td>\n",
       "      <td>15737888</td>\n",
       "      <td>Mitchell</td>\n",
       "      <td>850</td>\n",
       "      <td>Spain</td>\n",
       "      <td>Female</td>\n",
       "      <td>43</td>\n",
       "      <td>2.0</td>\n",
       "      <td>125510.82</td>\n",
       "      <td>1</td>\n",
       "      <td>1</td>\n",
       "      <td>1</td>\n",
       "      <td>79084.10</td>\n",
       "      <td>0</td>\n",
       "    </tr>\n",
       "    <tr>\n",
       "      <th>...</th>\n",
       "      <td>...</td>\n",
       "      <td>...</td>\n",
       "      <td>...</td>\n",
       "      <td>...</td>\n",
       "      <td>...</td>\n",
       "      <td>...</td>\n",
       "      <td>...</td>\n",
       "      <td>...</td>\n",
       "      <td>...</td>\n",
       "      <td>...</td>\n",
       "      <td>...</td>\n",
       "      <td>...</td>\n",
       "      <td>...</td>\n",
       "      <td>...</td>\n",
       "    </tr>\n",
       "    <tr>\n",
       "      <th>9995</th>\n",
       "      <td>9996</td>\n",
       "      <td>15606229</td>\n",
       "      <td>Obijiaku</td>\n",
       "      <td>771</td>\n",
       "      <td>France</td>\n",
       "      <td>Male</td>\n",
       "      <td>39</td>\n",
       "      <td>5.0</td>\n",
       "      <td>0.00</td>\n",
       "      <td>2</td>\n",
       "      <td>1</td>\n",
       "      <td>0</td>\n",
       "      <td>96270.64</td>\n",
       "      <td>0</td>\n",
       "    </tr>\n",
       "    <tr>\n",
       "      <th>9996</th>\n",
       "      <td>9997</td>\n",
       "      <td>15569892</td>\n",
       "      <td>Johnstone</td>\n",
       "      <td>516</td>\n",
       "      <td>France</td>\n",
       "      <td>Male</td>\n",
       "      <td>35</td>\n",
       "      <td>10.0</td>\n",
       "      <td>57369.61</td>\n",
       "      <td>1</td>\n",
       "      <td>1</td>\n",
       "      <td>1</td>\n",
       "      <td>101699.77</td>\n",
       "      <td>0</td>\n",
       "    </tr>\n",
       "    <tr>\n",
       "      <th>9997</th>\n",
       "      <td>9998</td>\n",
       "      <td>15584532</td>\n",
       "      <td>Liu</td>\n",
       "      <td>709</td>\n",
       "      <td>France</td>\n",
       "      <td>Female</td>\n",
       "      <td>36</td>\n",
       "      <td>7.0</td>\n",
       "      <td>0.00</td>\n",
       "      <td>1</td>\n",
       "      <td>0</td>\n",
       "      <td>1</td>\n",
       "      <td>42085.58</td>\n",
       "      <td>1</td>\n",
       "    </tr>\n",
       "    <tr>\n",
       "      <th>9998</th>\n",
       "      <td>9999</td>\n",
       "      <td>15682355</td>\n",
       "      <td>Sabbatini</td>\n",
       "      <td>772</td>\n",
       "      <td>Germany</td>\n",
       "      <td>Male</td>\n",
       "      <td>42</td>\n",
       "      <td>3.0</td>\n",
       "      <td>75075.31</td>\n",
       "      <td>2</td>\n",
       "      <td>1</td>\n",
       "      <td>0</td>\n",
       "      <td>92888.52</td>\n",
       "      <td>1</td>\n",
       "    </tr>\n",
       "    <tr>\n",
       "      <th>9999</th>\n",
       "      <td>10000</td>\n",
       "      <td>15628319</td>\n",
       "      <td>Walker</td>\n",
       "      <td>792</td>\n",
       "      <td>France</td>\n",
       "      <td>Female</td>\n",
       "      <td>28</td>\n",
       "      <td>NaN</td>\n",
       "      <td>130142.79</td>\n",
       "      <td>1</td>\n",
       "      <td>1</td>\n",
       "      <td>0</td>\n",
       "      <td>38190.78</td>\n",
       "      <td>0</td>\n",
       "    </tr>\n",
       "  </tbody>\n",
       "</table>\n",
       "<p>10000 rows × 14 columns</p>\n",
       "</div>"
      ],
      "text/plain": [
       "      RowNumber  CustomerId    Surname  CreditScore Geography  Gender  Age  \\\n",
       "0             1    15634602   Hargrave          619    France  Female   42   \n",
       "1             2    15647311       Hill          608     Spain  Female   41   \n",
       "2             3    15619304       Onio          502    France  Female   42   \n",
       "3             4    15701354       Boni          699    France  Female   39   \n",
       "4             5    15737888   Mitchell          850     Spain  Female   43   \n",
       "...         ...         ...        ...          ...       ...     ...  ...   \n",
       "9995       9996    15606229   Obijiaku          771    France    Male   39   \n",
       "9996       9997    15569892  Johnstone          516    France    Male   35   \n",
       "9997       9998    15584532        Liu          709    France  Female   36   \n",
       "9998       9999    15682355  Sabbatini          772   Germany    Male   42   \n",
       "9999      10000    15628319     Walker          792    France  Female   28   \n",
       "\n",
       "      Tenure    Balance  NumOfProducts  HasCrCard  IsActiveMember  \\\n",
       "0        2.0       0.00              1          1               1   \n",
       "1        1.0   83807.86              1          0               1   \n",
       "2        8.0  159660.80              3          1               0   \n",
       "3        1.0       0.00              2          0               0   \n",
       "4        2.0  125510.82              1          1               1   \n",
       "...      ...        ...            ...        ...             ...   \n",
       "9995     5.0       0.00              2          1               0   \n",
       "9996    10.0   57369.61              1          1               1   \n",
       "9997     7.0       0.00              1          0               1   \n",
       "9998     3.0   75075.31              2          1               0   \n",
       "9999     NaN  130142.79              1          1               0   \n",
       "\n",
       "      EstimatedSalary  Exited  \n",
       "0           101348.88       1  \n",
       "1           112542.58       0  \n",
       "2           113931.57       1  \n",
       "3            93826.63       0  \n",
       "4            79084.10       0  \n",
       "...               ...     ...  \n",
       "9995         96270.64       0  \n",
       "9996        101699.77       0  \n",
       "9997         42085.58       1  \n",
       "9998         92888.52       1  \n",
       "9999         38190.78       0  \n",
       "\n",
       "[10000 rows x 14 columns]"
      ]
     },
     "execution_count": 3,
     "metadata": {},
     "output_type": "execute_result"
    }
   ],
   "source": [
    "df"
   ]
  },
  {
   "cell_type": "markdown",
   "metadata": {},
   "source": [
    "Observemos que los `Dtype` se encuentren correctos"
   ]
  },
  {
   "cell_type": "code",
   "execution_count": 4,
   "metadata": {},
   "outputs": [
    {
     "name": "stdout",
     "output_type": "stream",
     "text": [
      "<class 'pandas.core.frame.DataFrame'>\n",
      "RangeIndex: 10000 entries, 0 to 9999\n",
      "Data columns (total 14 columns):\n",
      " #   Column           Non-Null Count  Dtype  \n",
      "---  ------           --------------  -----  \n",
      " 0   RowNumber        10000 non-null  int64  \n",
      " 1   CustomerId       10000 non-null  int64  \n",
      " 2   Surname          10000 non-null  object \n",
      " 3   CreditScore      10000 non-null  int64  \n",
      " 4   Geography        10000 non-null  object \n",
      " 5   Gender           10000 non-null  object \n",
      " 6   Age              10000 non-null  int64  \n",
      " 7   Tenure           9091 non-null   float64\n",
      " 8   Balance          10000 non-null  float64\n",
      " 9   NumOfProducts    10000 non-null  int64  \n",
      " 10  HasCrCard        10000 non-null  int64  \n",
      " 11  IsActiveMember   10000 non-null  int64  \n",
      " 12  EstimatedSalary  10000 non-null  float64\n",
      " 13  Exited           10000 non-null  int64  \n",
      "dtypes: float64(3), int64(8), object(3)\n",
      "memory usage: 1.1+ MB\n"
     ]
    }
   ],
   "source": [
    "df.info()"
   ]
  },
  {
   "cell_type": "markdown",
   "metadata": {},
   "source": [
    "Todo bien por el momento"
   ]
  },
  {
   "cell_type": "markdown",
   "metadata": {},
   "source": [
    "Veamos ahora si existen valores NaN"
   ]
  },
  {
   "cell_type": "code",
   "execution_count": 5,
   "metadata": {},
   "outputs": [
    {
     "data": {
      "text/plain": [
       "RowNumber            0\n",
       "CustomerId           0\n",
       "Surname              0\n",
       "CreditScore          0\n",
       "Geography            0\n",
       "Gender               0\n",
       "Age                  0\n",
       "Tenure             909\n",
       "Balance              0\n",
       "NumOfProducts        0\n",
       "HasCrCard            0\n",
       "IsActiveMember       0\n",
       "EstimatedSalary      0\n",
       "Exited               0\n",
       "dtype: int64"
      ]
     },
     "execution_count": 5,
     "metadata": {},
     "output_type": "execute_result"
    }
   ],
   "source": [
    "df.isna().sum()"
   ]
  },
  {
   "cell_type": "markdown",
   "metadata": {},
   "source": [
    "Vemos que faltan 909 datos de la columna `Tenure`(años durante el cual ha madurado el depósito a plazo fijo de un cliente), representan el 9,09% de los datos"
   ]
  },
  {
   "cell_type": "code",
   "execution_count": 6,
   "metadata": {},
   "outputs": [
    {
     "name": "stdout",
     "output_type": "stream",
     "text": [
      "2037\n"
     ]
    }
   ],
   "source": [
    "total_exited = df['Exited'].sum()\n",
    "print(total_exited)"
   ]
  },
  {
   "cell_type": "markdown",
   "metadata": {},
   "source": [
    "Cuando vemos que de los 10.000 datos solo 2037 de esos datos representan a aquellos de los clientes que se fueron los 909 datos faltantes es un valor importante a tener en cuenta ya que representan el 44,62% de estos. Vamos a tener que rellenar los NaN para no perder presición a l ahora del entrenamiento."
   ]
  },
  {
   "cell_type": "code",
   "execution_count": 7,
   "metadata": {},
   "outputs": [
    {
     "data": {
      "text/plain": [
       "count    9091.000000\n",
       "mean        4.997690\n",
       "std         2.894723\n",
       "min         0.000000\n",
       "25%         2.000000\n",
       "50%         5.000000\n",
       "75%         7.000000\n",
       "max        10.000000\n",
       "Name: Tenure, dtype: float64"
      ]
     },
     "execution_count": 7,
     "metadata": {},
     "output_type": "execute_result"
    }
   ],
   "source": [
    "df['Tenure'].describe()"
   ]
  },
  {
   "cell_type": "code",
   "execution_count": 8,
   "metadata": {},
   "outputs": [
    {
     "data": {
      "image/png": "[encoded data removed]",
      "text/plain": [
       "<Figure size 432x288 with 1 Axes>"
      ]
     },
     "metadata": {
      "needs_background": "light"
     },
     "output_type": "display_data"
    }
   ],
   "source": [
    "# Crear un histograma de la columna 'Tenure'\n",
    "plt.hist(df['Tenure'], bins=30)\n",
    "\n",
    "# Agregar etiquetas de eje y título\n",
    "plt.xlabel('Tenure')\n",
    "plt.ylabel('Frequency')\n",
    "plt.title('Histogram of Tenure')\n",
    "\n",
    "# Mostrar el gráfico\n",
    "plt.show()"
   ]
  },
  {
   "cell_type": "code",
   "execution_count": 9,
   "metadata": {},
   "outputs": [
    {
     "data": {
      "text/plain": [
       "1.0     952\n",
       "2.0     950\n",
       "8.0     933\n",
       "3.0     928\n",
       "5.0     927\n",
       "7.0     925\n",
       "4.0     885\n",
       "9.0     882\n",
       "6.0     881\n",
       "10.0    446\n",
       "0.0     382\n",
       "Name: Tenure, dtype: int64"
      ]
     },
     "execution_count": 9,
     "metadata": {},
     "output_type": "execute_result"
    }
   ],
   "source": [
    "# Esta variable es discreta y ordinal\n",
    "df['Tenure'].value_counts()"
   ]
  },
  {
   "cell_type": "markdown",
   "metadata": {},
   "source": [
    "Del grafico podemos ver que los valores se comportan según lo esperado, por lo que es seguro llenar los NaN con la media de los datos."
   ]
  },
  {
   "cell_type": "code",
   "execution_count": 10,
   "metadata": {},
   "outputs": [
    {
     "data": {
      "text/plain": [
       "RowNumber          0\n",
       "CustomerId         0\n",
       "Surname            0\n",
       "CreditScore        0\n",
       "Geography          0\n",
       "Gender             0\n",
       "Age                0\n",
       "Tenure             0\n",
       "Balance            0\n",
       "NumOfProducts      0\n",
       "HasCrCard          0\n",
       "IsActiveMember     0\n",
       "EstimatedSalary    0\n",
       "Exited             0\n",
       "dtype: int64"
      ]
     },
     "execution_count": 10,
     "metadata": {},
     "output_type": "execute_result"
    }
   ],
   "source": [
    "df['Tenure'].fillna(df['Tenure'].mean(), inplace=True)\n",
    "df.isna().sum()"
   ]
  },
  {
   "cell_type": "markdown",
   "metadata": {},
   "source": [
    "Vemos que se llenaron los datos ausentes correctamentes, ahora podemos continuar con el entrenamiento de los datos"
   ]
  },
  {
   "cell_type": "markdown",
   "metadata": {},
   "source": [
    "## Visualización de Datos"
   ]
  },
  {
   "cell_type": "markdown",
   "metadata": {},
   "source": [
    "Voy a visualizar los datos para entenderlos mejor, por un lado los valores numericos de `Feature`(CreditScore, Geography, Gender, Age, Tenure, Balance, NumOfProducts, HasCrCard, IsActiveMember, EstimatedSalary) y por el otro el `Target`(Exited)    "
   ]
  },
  {
   "cell_type": "markdown",
   "metadata": {},
   "source": [
    "### Feature"
   ]
  },
  {
   "cell_type": "code",
   "execution_count": 11,
   "metadata": {},
   "outputs": [
    {
     "data": {
      "image/png": "[encoded data removed]",
      "text/plain": [
       "<Figure size 1440x1080 with 9 Axes>"
      ]
     },
     "metadata": {
      "needs_background": "light"
     },
     "output_type": "display_data"
    }
   ],
   "source": [
    "df.hist(column=['Surname', 'CreditScore', 'Geography', 'Gender', 'Age', 'Tenure', 'Balance',\n",
    "                'NumOfProducts', 'HasCrCard', 'IsActiveMember', 'EstimatedSalary'], figsize=(20,15))\n",
    "plt.show()"
   ]
  },
  {
   "cell_type": "markdown",
   "metadata": {},
   "source": [
    "### Relaciónes entre las variables categoricas `HasCrCard`, `isActiveMember`, `NumOfProduct` y `Exited`"
   ]
  },
  {
   "cell_type": "markdown",
   "metadata": {},
   "source": [
    "#### Gráfico de dispersión entre NumOfProducts y Exited"
   ]
  },
  {
   "cell_type": "code",
   "execution_count": 12,
   "metadata": {},
   "outputs": [
    {
     "data": {
      "image/png": "[encoded data removed]",
      "text/plain": [
       "<Figure size 432x288 with 1 Axes>"
      ]
     },
     "metadata": {
      "needs_background": "light"
     },
     "output_type": "display_data"
    }
   ],
   "source": [
    "# Agrupar por NumOfProducts y calcular la tasa de abandono promedio\n",
    "grouped = df.groupby(\"NumOfProducts\")[\"Exited\"].mean()\n",
    "\n",
    "# Crear un gráfico de barras\n",
    "fig, ax = plt.subplots()\n",
    "ax.bar(grouped.index, grouped.values)\n",
    "ax.set_xlabel(\"Número de productos\")\n",
    "ax.set_ylabel(\"Tasa de abandono promedio\")\n",
    "ax.set_title(\"Relación entre NumOfProducts y Exited\")\n",
    "\n",
    "plt.show()"
   ]
  },
  {
   "cell_type": "markdown",
   "metadata": {},
   "source": [
    "#### Gráfico de barras entre HasCrCard y Exited"
   ]
  },
  {
   "cell_type": "code",
   "execution_count": 13,
   "metadata": {},
   "outputs": [
    {
     "data": {
      "image/png": "[encoded data removed]",
      "text/plain": [
       "<Figure size 432x288 with 1 Axes>"
      ]
     },
     "metadata": {
      "needs_background": "light"
     },
     "output_type": "display_data"
    }
   ],
   "source": [
    "grouped = df.groupby(['HasCrCard', 'Exited']).size().unstack()\n",
    "grouped.plot(kind='bar', stacked=True)\n",
    "plt.xlabel('HasCrCard')\n",
    "plt.ylabel('Count')\n",
    "plt.title('Relación entre HasCrCard y Exited')\n",
    "plt.show()\n"
   ]
  },
  {
   "cell_type": "markdown",
   "metadata": {},
   "source": [
    "#### Gráfico de barras entre IsActiveMember y Exited"
   ]
  },
  {
   "cell_type": "code",
   "execution_count": 14,
   "metadata": {},
   "outputs": [
    {
     "data": {
      "image/png": "[encoded data removed]",
      "text/plain": [
       "<Figure size 432x288 with 1 Axes>"
      ]
     },
     "metadata": {
      "needs_background": "light"
     },
     "output_type": "display_data"
    }
   ],
   "source": [
    "grouped = df.groupby(['IsActiveMember', 'Exited']).size().unstack()\n",
    "grouped.plot(kind='bar', stacked=True)\n",
    "plt.xlabel('IsActiveMember')\n",
    "plt.ylabel('Count')\n",
    "plt.title('Relación entre IsActiveMember y Exited')\n",
    "plt.show()"
   ]
  },
  {
   "cell_type": "markdown",
   "metadata": {},
   "source": [
    "De estos 3 gráficos vemos que tanto si es un miembro activo o si tiene una tarjeta de credito las tendencias para abandonar el banco no cambian, pero cuando vemos el gráfico de cantidad de productos si hay una relación entre el N° de productos y el abandono del banco, cuando el N° es mayor a 2 hay una marcada probabilidad de abandono."
   ]
  },
  {
   "cell_type": "markdown",
   "metadata": {},
   "source": [
    "### Target"
   ]
  },
  {
   "cell_type": "code",
   "execution_count": 15,
   "metadata": {},
   "outputs": [
    {
     "data": {
      "image/png": "[encoded data removed]",
      "text/plain": [
       "<Figure size 432x288 with 1 Axes>"
      ]
     },
     "metadata": {
      "needs_background": "light"
     },
     "output_type": "display_data"
    }
   ],
   "source": [
    "df['Exited'].value_counts().plot(kind='bar')\n",
    "plt.show()"
   ]
  },
  {
   "cell_type": "markdown",
   "metadata": {},
   "source": [
    "De este grafico vemos que 1/4 del total de los clientes se fue"
   ]
  },
  {
   "cell_type": "markdown",
   "metadata": {},
   "source": [
    "### Relación entre las variables"
   ]
  },
  {
   "cell_type": "code",
   "execution_count": 16,
   "metadata": {
    "scrolled": false
   },
   "outputs": [
    {
     "data": {
      "image/png": "[encoded data removed]",
      "text/plain": [
       "<Figure size 432x288 with 1 Axes>"
      ]
     },
     "metadata": {
      "needs_background": "light"
     },
     "output_type": "display_data"
    },
    {
     "data": {
      "image/png": "[encoded data removed]",
      "text/plain": [
       "<Figure size 432x288 with 1 Axes>"
      ]
     },
     "metadata": {
      "needs_background": "light"
     },
     "output_type": "display_data"
    },
    {
     "data": {
      "image/png": "[encoded data removed]",
      "text/plain": [
       "<Figure size 432x288 with 1 Axes>"
      ]
     },
     "metadata": {
      "needs_background": "light"
     },
     "output_type": "display_data"
    },
    {
     "data": {
      "image/png": "[encoded data removed]",
      "text/plain": [
       "<Figure size 432x288 with 1 Axes>"
      ]
     },
     "metadata": {
      "needs_background": "light"
     },
     "output_type": "display_data"
    },
    {
     "data": {
      "image/png": "[encoded data removed]",
      "text/plain": [
       "<Figure size 432x288 with 1 Axes>"
      ]
     },
     "metadata": {
      "needs_background": "light"
     },
     "output_type": "display_data"
    },
    {
     "data": {
      "image/png": "[encoded data removed]",
      "text/plain": [
       "<Figure size 432x288 with 1 Axes>"
      ]
     },
     "metadata": {
      "needs_background": "light"
     },
     "output_type": "display_data"
    },
    {
     "data": {
      "image/png": "[encoded data removed]",
      "text/plain": [
       "<Figure size 432x288 with 1 Axes>"
      ]
     },
     "metadata": {
      "needs_background": "light"
     },
     "output_type": "display_data"
    },
    {
     "data": {
      "image/png": "[encoded data removed]",
      "text/plain": [
       "<Figure size 432x288 with 1 Axes>"
      ]
     },
     "metadata": {
      "needs_background": "light"
     },
     "output_type": "display_data"
    },
    {
     "data": {
      "image/png": "[encoded data removed]",
      "text/plain": [
       "<Figure size 432x288 with 1 Axes>"
      ]
     },
     "metadata": {
      "needs_background": "light"
     },
     "output_type": "display_data"
    },
    {
     "data": {
      "image/png": "[encoded data removed]",
      "text/plain": [
       "<Figure size 432x288 with 1 Axes>"
      ]
     },
     "metadata": {
      "needs_background": "light"
     },
     "output_type": "display_data"
    }
   ],
   "source": [
    "# Crear un subconjunto del dataframe sin las columnas 'RowNumber', 'CustomerId' y 'Surname'\n",
    "data = df.drop(['RowNumber', 'CustomerId', 'Surname'], axis=1)\n",
    "\n",
    "# Crear una lista de las variables a comparar con 'Exited'\n",
    "variables = list(data.columns[:-1])\n",
    "\n",
    "# Crear un diagrama de caja para cada variable, comparando con 'Exited'\n",
    "for variable in variables:\n",
    "    sns.boxplot(x='Exited', y=variable, data=data)\n",
    "    plt.title(f'{variable} vs. Exited')\n",
    "    plt.show()"
   ]
  },
  {
   "cell_type": "markdown",
   "metadata": {},
   "source": [
    "De los Boxplot podemos sacar las siguientes conclusiónes de los clientes que suelen dejar el banco:\n",
    "- Son en su mayoria de Alemania.\n",
    "- Son en su mayoria mujeres.\n",
    "- Suelen tener un rango de edad entre los 40 y 50 años."
   ]
  },
  {
   "cell_type": "markdown",
   "metadata": {},
   "source": [
    "## Segmentación de datos"
   ]
  },
  {
   "cell_type": "markdown",
   "metadata": {},
   "source": [
    "Ahora voy a segmentar el DataFrame para entrenar a los modelos, la segmentación va a ser:\n",
    "\n",
    "- 60% datos para el entrenamiento\n",
    "- 20% datos de validación\n",
    "- 20% datos de prueba"
   ]
  },
  {
   "cell_type": "code",
   "execution_count": 17,
   "metadata": {},
   "outputs": [
    {
     "name": "stdout",
     "output_type": "stream",
     "text": [
      "Datos de entrenamiento: (6000, 14)\n",
      "Datos de validación: (2000, 14)\n",
      "Datos de prueba: (2000, 14)\n"
     ]
    }
   ],
   "source": [
    "# Se separan los datos en dos conjuntos: uno de entrenamiento y otro de prueba\n",
    "train_df, test_df = train_test_split(df, test_size=0.2, random_state=12345)\n",
    "\n",
    "# Se separa el conjunto de entrenamiento en dos conjuntos: uno de entrenamiento y otro de validación\n",
    "train_df, val_df = train_test_split(train_df, test_size=0.25, random_state=12345)\n",
    "\n",
    "# Se imprimen las dimensiones de los conjuntos resultantes\n",
    "print(f\"Datos de entrenamiento: {train_df.shape}\")\n",
    "print(f\"Datos de validación: {val_df.shape}\")\n",
    "print(f\"Datos de prueba: {test_df.shape}\")"
   ]
  },
  {
   "cell_type": "markdown",
   "metadata": {},
   "source": [
    "Los datos se segmentaron correctamente"
   ]
  },
  {
   "cell_type": "markdown",
   "metadata": {},
   "source": [
    "## Modelos"
   ]
  },
  {
   "cell_type": "markdown",
   "metadata": {},
   "source": [
    "### Regresion logistica"
   ]
  },
  {
   "cell_type": "markdown",
   "metadata": {},
   "source": [
    "#### Regresion Logistica sin Balancear"
   ]
  },
  {
   "cell_type": "code",
   "execution_count": 18,
   "metadata": {},
   "outputs": [
    {
     "name": "stdout",
     "output_type": "stream",
     "text": [
      "Positivos del modelo: 535\n",
      "Positivos predecidos: 72\n",
      "Relación de los positivos entre modelo y prueba:0.2140\n",
      "Accuracy: 0.7828\n",
      "Precision:, 0.4444\n",
      "Recall:, 0.0598\n",
      "F1 Score:, 0.1054\n"
     ]
    }
   ],
   "source": [
    "# Definir las características (features) del modelo\n",
    "x = df.drop(['Exited'], axis=1)\n",
    "columns = ['CreditScore', 'Age', 'Tenure', 'Balance', 'NumOfProducts', 'HasCrCard', 'IsActiveMember', 'EstimatedSalary']\n",
    "features = x[columns]\n",
    "\n",
    "# Definir la variable objetivo (target) del modelo\n",
    "target = df['Exited']\n",
    "\n",
    "# Dividir los datos en conjuntos de entrenamiento y prueba\n",
    "features_train, features_test, target_train, target_test = train_test_split(features, target, test_size=0.25, random_state=12345)\n",
    "\n",
    "# Modelo\n",
    "model = LogisticRegression(random_state=12345, class_weight= None, solver='liblinear')\n",
    "model.fit(features_train, target_train)\n",
    "predicted_test = model.predict(features_test)\n",
    "\n",
    "# Evaluar el rendimiento del modelo\n",
    "positive_class_ratio = target_test.sum()/len(target_test)\n",
    "accuracy = accuracy_score(target_test, predicted_test)\n",
    "precision = precision_score(target_test, predicted_test)\n",
    "recall = recall_score(target_test, predicted_test)\n",
    "f1 = f1_score(target_test, predicted_test)\n",
    "\n",
    "print(\"Positivos del modelo:\" ,target_test.sum())\n",
    "print(\"Positivos predecidos:\", predicted_test.sum())\n",
    "print(f\"Relación de los positivos entre modelo y prueba:{positive_class_ratio:.4f}\")\n",
    "print(f\"Accuracy: {accuracy:.4f}\")\n",
    "print(f\"Precision:, {precision:.4f}\")\n",
    "print(f\"Recall:, {recall:.4f}\")\n",
    "print(f\"F1 Score:, {f1:.4f}\")"
   ]
  },
  {
   "cell_type": "markdown",
   "metadata": {},
   "source": [
    "Según el modelo sin balancear nos indica que en el conjunto de prueba:\n",
    "- Hay un total de 535 clientes que abandonaron el banco. \n",
    "- De estos, el modelo predijo correctamente 72 de ellos como abandonos (verdaderos positivos). \n",
    "- La relación de positivos entre el modelo y la prueba es de 0.2140, lo que significa que el modelo predijo positivos (abandono) para el 21.40% de los datos de prueba.\n",
    "- El modelo tuvo una precisión del 44.44%, lo que significa que de todos los casos que predijo como positivos (abandono), solo el 44.44% de ellos eran verdaderamente positivos. \n",
    "- El recall fue del 5.98%, lo que significa que de todos los casos verdaderamente positivos (abandono), el modelo solo pudo identificar el 5.98% de ellos.\n",
    "- El F1-Score obtenido es de 0.1054, lo que indica que el modelo no tiene un buen equilibrio entre precisión y recall y que su rendimiento es bajo"
   ]
  },
  {
   "cell_type": "markdown",
   "metadata": {},
   "source": [
    "#### Regresion Logistica Balanceada"
   ]
  },
  {
   "cell_type": "code",
   "execution_count": 19,
   "metadata": {},
   "outputs": [
    {
     "name": "stdout",
     "output_type": "stream",
     "text": [
      "Positivos del modelo: 535\n",
      "Positivos predecidos: 1076\n",
      "Relación de los positivos entre modelo y prueba:0.2140\n",
      "Accuracy: 0.6452\n",
      "Precision:, 0.3364\n",
      "Recall:, 0.6766\n",
      "F1 Score:, 0.4494\n"
     ]
    }
   ],
   "source": [
    "# Modelo\n",
    "model = LogisticRegression(random_state=12345, class_weight= 'balanced', solver='liblinear')\n",
    "model.fit(features_train, target_train)\n",
    "predicted_test = model.predict(features_test)\n",
    "\n",
    "# Evaluar el rendimiento del modelo\n",
    "positive_class_ratio = target_test.sum()/len(target_test)\n",
    "accuracy = accuracy_score(target_test, predicted_test)\n",
    "precision = precision_score(target_test, predicted_test)\n",
    "recall = recall_score(target_test, predicted_test)\n",
    "f1 = f1_score(target_test, predicted_test)\n",
    "\n",
    "print(\"Positivos del modelo:\" ,target_test.sum())\n",
    "print(\"Positivos predecidos:\", predicted_test.sum())\n",
    "print(f\"Relación de los positivos entre modelo y prueba:{positive_class_ratio:.4f}\")\n",
    "print(f\"Accuracy: {accuracy:.4f}\")\n",
    "print(f\"Precision:, {precision:.4f}\")\n",
    "print(f\"Recall:, {recall:.4f}\")\n",
    "print(f\"F1 Score:, {f1:.4f}\")"
   ]
  },
  {
   "cell_type": "markdown",
   "metadata": {},
   "source": [
    "Aca vemos que:\n",
    "- La precisión es baja, lo que indica que la mayoría de los positivos que predice el modelo son falsos positivos. \n",
    "- El recall es alto, lo que significa que el modelo es capaz de detectar una proporción significativa de los casos positivos reales, pero a costa de generar muchos falsos positivos. \n",
    "- El F1 score combina tanto la precisión como el recall en una sola medida y muestra que el modelo tiene un valor bajo en la capacidad de predecir correctamente los casos positivos. En resumen, el modelo necesita ser mejorado para reducir la tasa de falsos positivos y mejorar tanto la precisión como el recall."
   ]
  },
  {
   "cell_type": "markdown",
   "metadata": {},
   "source": [
    "#### Upsample aleatorio"
   ]
  },
  {
   "cell_type": "code",
   "execution_count": 20,
   "metadata": {},
   "outputs": [
    {
     "name": "stdout",
     "output_type": "stream",
     "text": [
      "Upsample con n=2\n",
      "Positivos del modelo: 3004\n",
      "Positivos predecidos: 360\n",
      "Relación de los positivos entre modelo y prueba:0.3337\n",
      "Accuracy: 0.7660\n",
      "Precision: 0.4306\n",
      "Recall: 0.2897\n",
      "F1 Score: 0.3464\n",
      "========================================\n",
      "Upsample con n=3\n",
      "Positivos del modelo: 4506\n",
      "Positivos predecidos: 738\n",
      "Relación de los positivos entre modelo y prueba:0.4290\n",
      "Accuracy: 0.7116\n",
      "Precision: 0.3740\n",
      "Recall: 0.5159\n",
      "F1 Score: 0.4336\n",
      "========================================\n",
      "Upsample con n=4\n",
      "Positivos del modelo: 6008\n",
      "Positivos predecidos: 1078\n",
      "Relación de los positivos entre modelo y prueba:0.5004\n",
      "Accuracy: 0.6452\n",
      "Precision: 0.3367\n",
      "Recall: 0.6785\n",
      "F1 Score: 0.4501\n",
      "========================================\n",
      "Upsample con n=5\n",
      "Positivos del modelo: 7510\n",
      "Positivos predecidos: 1391\n",
      "Relación de los positivos entre modelo y prueba:0.5560\n",
      "Accuracy: 0.5640\n",
      "Precision: 0.3005\n",
      "Recall: 0.7813\n",
      "F1 Score: 0.4341\n",
      "========================================\n",
      "Upsample con n=6\n",
      "Positivos del modelo: 9012\n",
      "Positivos predecidos: 1640\n",
      "Relación de los positivos entre modelo y prueba:0.6004\n",
      "Accuracy: 0.4996\n",
      "Precision: 0.2817\n",
      "Recall: 0.8636\n",
      "F1 Score: 0.4248\n",
      "========================================\n",
      "Upsample con n=7\n",
      "Positivos del modelo: 10514\n",
      "Positivos predecidos: 1841\n",
      "Relación de los positivos entre modelo y prueba:0.6367\n",
      "Accuracy: 0.4400\n",
      "Precision: 0.2651\n",
      "Recall: 0.9121\n",
      "F1 Score: 0.4108\n",
      "========================================\n",
      "Upsample con n=8\n",
      "Positivos del modelo: 12016\n",
      "Positivos predecidos: 2003\n",
      "Relación de los positivos entre modelo y prueba:0.6670\n",
      "Accuracy: 0.3880\n",
      "Precision: 0.2516\n",
      "Recall: 0.9421\n",
      "F1 Score: 0.3972\n",
      "========================================\n",
      "Upsample con n=9\n",
      "Positivos del modelo: 13518\n",
      "Positivos predecidos: 2119\n",
      "Relación de los positivos entre modelo y prueba:0.6927\n",
      "Accuracy: 0.3512\n",
      "Precision: 0.2435\n",
      "Recall: 0.9645\n",
      "F1 Score: 0.3888\n",
      "========================================\n",
      "Upsample con n=10\n",
      "Positivos del modelo: 15020\n",
      "Positivos predecidos: 2191\n",
      "Relación de los positivos entre modelo y prueba:0.7146\n",
      "Accuracy: 0.3248\n",
      "Precision: 0.2369\n",
      "Recall: 0.9701\n",
      "F1 Score: 0.3808\n",
      "========================================\n"
     ]
    }
   ],
   "source": [
    "# Creo una función para el upsample\n",
    "def upsample(features, target, repeat):\n",
    "    features_zeros = features[target == 0]\n",
    "    features_ones = features[target == 1]\n",
    "    target_zeros = target[target == 0]\n",
    "    target_ones = target[target == 1]\n",
    "    \n",
    "    # Reiniciar índices\n",
    "    features_zeros = features_zeros.reset_index(drop=True)\n",
    "    features_ones = features_ones.reset_index(drop=True)\n",
    "    target_zeros = target_zeros.reset_index(drop=True)\n",
    "    target_ones = target_ones.reset_index(drop=True)\n",
    "    \n",
    "    features_upsampled = pd.concat([features_zeros] + [features_ones] * repeat)\n",
    "    target_upsampled = pd.concat([target_zeros] + [ target_ones] * repeat)\n",
    "    \n",
    "    features_upsampled, target_upsampled = shuffle(features_upsampled, target_upsampled, random_state = 12345)\n",
    "    \n",
    "    return features_upsampled, target_upsampled\n",
    "\n",
    "\n",
    "for repeat in range(2, 11):\n",
    "    # Aplicar la función de upsample\n",
    "    features_upsampled, target_upsampled = upsample(features_train, target_train, repeat)\n",
    "\n",
    "    # Ajustar el modelo y hacer las predicciones\n",
    "    model = LogisticRegression(random_state=12345, solver='liblinear')\n",
    "    model.fit(features_upsampled, target_upsampled)\n",
    "    predicted_test = model.predict(features_test)\n",
    "\n",
    "    # Evaluar el rendimiento del modelo\n",
    "    positive_class_ratio = target_upsampled.sum()/len(target_upsampled)\n",
    "    accuracy = accuracy_score(target_test, predicted_test)\n",
    "    precision = precision_score(target_test, predicted_test)\n",
    "    recall = recall_score(target_test, predicted_test)\n",
    "    f1 = f1_score(target_test, predicted_test)\n",
    "\n",
    "    # Imprimir los resultados\n",
    "    print(f\"Upsample con n={repeat}\")\n",
    "    print(\"Positivos del modelo:\", target_upsampled.sum())\n",
    "    print(\"Positivos predecidos:\", predicted_test.sum())\n",
    "    print(f\"Relación de los positivos entre modelo y prueba:{positive_class_ratio:.4f}\")\n",
    "    print(f\"Accuracy: {accuracy:.4f}\")\n",
    "    print(f\"Precision: {precision:.4f}\")\n",
    "    print(f\"Recall: {recall:.4f}\")\n",
    "    print(f\"F1 Score: {f1:.4f}\")\n",
    "    print(\"=\" * 40)"
   ]
  },
  {
   "cell_type": "markdown",
   "metadata": {},
   "source": [
    "Ahora vemos que el modelo con upsample (aumento de muestras) y un n=4 tuvo una mejor capacidad para detectar los casos positivos que el modelo anterior. \n",
    "- La métrica de recall (0.6785) mejoró significativamente, lo que indica que el modelo pudo identificar más casos positivos correctamente, \n",
    "- Aunque la precisión (0.3367) se mantuvo en niveles similares. \n",
    "- El F1-Score(0.4501) también aumentó ligeramente en comparación con el modelo anterior. Sin embargo, la precisión sigue siendo relativamente baja y se podría trabajar en mejorarla. \n",
    "\n"
   ]
  },
  {
   "cell_type": "markdown",
   "metadata": {},
   "source": [
    "#### Downsample"
   ]
  },
  {
   "cell_type": "code",
   "execution_count": 21,
   "metadata": {
    "scrolled": false
   },
   "outputs": [
    {
     "name": "stdout",
     "output_type": "stream",
     "text": [
      "Downsample con frac=0.1\n",
      "Positivos del modelo: 1502\n",
      "Positivos predecidos: 2197\n",
      "Relación de los positivos entre modelo y prueba:0.7146\n",
      "Accuracy: 0.3224\n",
      "Precision: 0.2362\n",
      "Recall: 0.9701\n",
      "F1 Score: 0.3799\n",
      "========================================\n",
      "Downsample con frac=0.2\n",
      "Positivos del modelo: 1502\n",
      "Positivos predecidos: 1389\n",
      "Relación de los positivos entre modelo y prueba:0.5559\n",
      "Accuracy: 0.5648\n",
      "Precision: 0.3009\n",
      "Recall: 0.7813\n",
      "F1 Score: 0.4345\n",
      "========================================\n",
      "Downsample con frac=0.3\n",
      "Positivos del modelo: 1502\n",
      "Positivos predecidos: 853\n",
      "Relación de los positivos entre modelo y prueba:0.4550\n",
      "Accuracy: 0.6976\n",
      "Precision: 0.3705\n",
      "Recall: 0.5907\n",
      "F1 Score: 0.4553\n",
      "========================================\n",
      "Downsample con frac=0.4\n",
      "Positivos del modelo: 1502\n",
      "Positivos predecidos: 553\n",
      "Relación de los positivos entre modelo y prueba:0.3850\n",
      "Accuracy: 0.7440\n",
      "Precision: 0.4051\n",
      "Recall: 0.4187\n",
      "F1 Score: 0.4118\n",
      "========================================\n",
      "Downsample con frac=0.5\n",
      "Positivos del modelo: 1502\n",
      "Positivos predecidos: 364\n",
      "Relación de los positivos entre modelo y prueba:0.3337\n",
      "Accuracy: 0.7644\n",
      "Precision: 0.4258\n",
      "Recall: 0.2897\n",
      "F1 Score: 0.3448\n",
      "========================================\n",
      "Downsample con frac=0.6\n",
      "Positivos del modelo: 1502\n",
      "Positivos predecidos: 242\n",
      "Relación de los positivos entre modelo y prueba:0.2945\n",
      "Accuracy: 0.7772\n",
      "Precision: 0.4545\n",
      "Recall: 0.2056\n",
      "F1 Score: 0.2831\n",
      "========================================\n",
      "Downsample con frac=0.7\n",
      "Positivos del modelo: 1502\n",
      "Positivos predecidos: 175\n",
      "Relación de los positivos entre modelo y prueba:0.2635\n",
      "Accuracy: 0.7816\n",
      "Precision: 0.4686\n",
      "Recall: 0.1533\n",
      "F1 Score: 0.2310\n",
      "========================================\n",
      "Downsample con frac=0.8\n",
      "Positivos del modelo: 1502\n",
      "Positivos predecidos: 128\n",
      "Relación de los positivos entre modelo y prueba:0.2384\n",
      "Accuracy: 0.7772\n",
      "Precision: 0.4141\n",
      "Recall: 0.0991\n",
      "F1 Score: 0.1599\n",
      "========================================\n"
     ]
    }
   ],
   "source": [
    "# Creo una función para el downsample\n",
    "def downsample(features, target, fraction):\n",
    "    features_zeros = features[target == 0]\n",
    "    features_ones = features[target == 1]\n",
    "    target_zeros = target[target == 0]\n",
    "    target_ones = target[target == 1]\n",
    "    \n",
    "    # Reiniciar índices\n",
    "    features_zeros = features_zeros.reset_index(drop=True)\n",
    "    features_ones = features_ones.reset_index(drop=True)\n",
    "    target_zeros = target_zeros.reset_index(drop=True)\n",
    "    target_ones = target_ones.reset_index(drop=True)\n",
    "    \n",
    "    features_downsampled = pd.concat([features_zeros.sample(frac = fraction, random_state = 12345)] + [features_ones])\n",
    "    target_downsampled = pd.concat([target_zeros.sample(frac = fraction, random_state = 12345)] + [target_ones])\n",
    "    \n",
    "    features_downsampled, target_downsampled = shuffle(features_downsampled, target_downsampled, random_state = 12345)\n",
    "    \n",
    "    return features_downsampled, target_downsampled\n",
    "\n",
    "\n",
    "for fraction in np.arange(0.1, 0.9, 0.1):\n",
    "    # Aplicar la función de downsample\n",
    "    features_downsampled, target_downsampled = downsample(features_train, target_train, fraction)\n",
    "\n",
    "    # Ajustar el modelo y hacer las predicciones\n",
    "    model = LogisticRegression(random_state=12345, solver='liblinear')\n",
    "    model.fit(features_downsampled, target_downsampled)\n",
    "    predicted_test = model.predict(features_test)\n",
    "\n",
    "    # Evaluar el rendimiento del modelo\n",
    "    positive_class_ratio = target_downsampled.sum()/len(target_downsampled)\n",
    "    accuracy = accuracy_score(target_test, predicted_test)\n",
    "    precision = precision_score(target_test, predicted_test)\n",
    "    recall = recall_score(target_test, predicted_test)\n",
    "    f1 = f1_score(target_test, predicted_test)\n",
    "\n",
    "    # Imprimir los resultados\n",
    "    print(f\"Downsample con frac={fraction:.1f}\")\n",
    "    print(\"Positivos del modelo:\", target_downsampled.sum())\n",
    "    print(\"Positivos predecidos:\", predicted_test.sum())\n",
    "    print(f\"Relación de los positivos entre modelo y prueba:{positive_class_ratio:.4f}\")\n",
    "    print(f\"Accuracy: {accuracy:.4f}\")\n",
    "    print(f\"Precision: {precision:.4f}\")\n",
    "    print(f\"Recall: {recall:.4f}\")\n",
    "    print(f\"F1 Score: {f1:.4f}\")\n",
    "    print(\"=\" * 40)"
   ]
  },
  {
   "cell_type": "markdown",
   "metadata": {},
   "source": [
    "Cuando usamos un Downsample, vemos que el mejor resultado se obtiene con una fracción de 0.3, lo que significa que se redujo la cantidad de ejemplos negativos en un 70% al azar. \n",
    "\n",
    "- El modelo tiene una precisión de 0.3705\n",
    "- Un recall de 0.5907. \n",
    "- El F1 score es de 0.4553"
   ]
  },
  {
   "cell_type": "markdown",
   "metadata": {},
   "source": [
    "### Arbol de decision"
   ]
  },
  {
   "cell_type": "code",
   "execution_count": 22,
   "metadata": {},
   "outputs": [
    {
     "name": "stdout",
     "output_type": "stream",
     "text": [
      "Arbol de decisión balanceado:\n",
      "Positivos del modelo: 535\n",
      "Positivos predecidos: 521\n",
      "Relación de los positivos entre modelo y prueba:0.2140\n",
      "Accuracy: 0.7744\n",
      "Precision: 0.4722\n",
      "Recall: 0.4598\n",
      "F1 Score: 0.4659\n"
     ]
    }
   ],
   "source": [
    "# dividir los datos en conjuntos de entrenamiento y prueba\n",
    "X_train, X_test, y_train, y_test = train_test_split(features, target, test_size=0.25, random_state=12345)\n",
    "\n",
    "# entrenar el modelo con el conjunto de entrenamiento sin balancear\n",
    "dtc = DecisionTreeClassifier(class_weight=\"balanced\")\n",
    "dtc.fit(X_train, y_train)\n",
    "y_pred = dtc.predict(X_test)\n",
    "\n",
    "\n",
    "# Definimos una función para hacer la evaluación de cada modelo\n",
    "def evaluate_model(model, X_test, y_test):\n",
    "    # Hacemos la predicción sobre los datos de prueba\n",
    "    y_pred = model.predict(X_test)\n",
    "    # Calculamos los valores de evaluación\n",
    "    positive_class_ratio = y_test.sum()/len(y_test)\n",
    "    accuracy = accuracy_score(y_test, y_pred)\n",
    "    precision = precision_score(y_test, y_pred)\n",
    "    recall = recall_score(y_test, y_pred)\n",
    "    f1 = f1_score(y_test, y_pred)\n",
    "    # Imprimimos los resultados\n",
    "    \n",
    "    print(\"Positivos del modelo:\" ,y_test.sum())\n",
    "    print(\"Positivos predecidos:\", y_pred.sum())\n",
    "    print(f\"Relación de los positivos entre modelo y prueba:{positive_class_ratio:.4f}\")\n",
    "    print(f\"Accuracy: {accuracy:.4f}\")\n",
    "    print(f\"Precision: {precision:.4f}\")\n",
    "    print(f\"Recall: {recall:.4f}\")\n",
    "    print(f\"F1 Score: {f1:.4f}\")\n",
    "    \n",
    "\n",
    "# Evaluación del modelo sin balancear\n",
    "print(\"Arbol de decisión balanceado\")\n",
    "evaluate_model(dtc, X_test, y_test)"
   ]
  },
  {
   "cell_type": "markdown",
   "metadata": {},
   "source": [
    "Los resultados del árbol de decision balanceado indican que el modelo logró predecir correctamente 535 casos positivos de un total de 2,500 casos positivos en los datos de prueba. \n",
    "\n",
    "El modelo predijo 521 casos positivos.\n",
    "\n",
    "La relación de los positivos entre el modelo y la prueba es del 21.40%, lo que indica que el modelo no está bien calibrado y puede estar subestimando la cantidad de casos positivos.\n",
    "\n",
    "La precisión del modelo es del 47,22%, lo que significa que de todos los casos que predijo como positivos, solo el 47,22% de ellos eran realmente positivos.\n",
    "\n",
    "El recall del modelo es del 45,98%, lo que significa que de todos los casos positivos que se presentaron en los datos de prueba, el modelo logró detectar el 45,98%de ellos. \n",
    "\n",
    "El F1 score del modelo es del 46,59%, que es una medida de la precisión y el recall equilibrados. En general, estos resultados indican que el modelo puede no ser adecuado para los datos de prueba y puede necesitar ajustes para mejorar su rendimiento."
   ]
  },
  {
   "cell_type": "markdown",
   "metadata": {},
   "source": [
    "### Árbol de decision con Upsample"
   ]
  },
  {
   "cell_type": "code",
   "execution_count": 23,
   "metadata": {},
   "outputs": [
    {
     "name": "stdout",
     "output_type": "stream",
     "text": [
      "Arbol de decisión con Upsample:\n",
      "Positivos del modelo: 535\n",
      "Positivos predecidos: 1013\n",
      "Relación de los positivos entre modelo y prueba:0.5000\n",
      "Accuracy: 0.6664\n",
      "Precision: 0.3524\n",
      "Recall: 0.6673\n",
      "F1 Score: 0.4612\n"
     ]
    }
   ],
   "source": [
    "# aplicar submuestreo\n",
    "undersample = RandomUnderSampler(sampling_strategy='majority')\n",
    "X_train_undersample, y_train_undersample = undersample.fit_resample(X_train, y_train)\n",
    "\n",
    "# entrenar el modelo con el conjunto de entrenamiento con submuestreo\n",
    "dtc = DecisionTreeClassifier()\n",
    "dtc.fit(X_train_undersample, y_train_undersample)\n",
    "y_pred = dtc.predict(X_test)\n",
    "\n",
    "# Definimos una función para hacer la evaluación de cada modelo\n",
    "def evaluate_model(model, X_test, y_test):\n",
    "    # Hacemos la predicción sobre los datos de prueba\n",
    "    y_pred = model.predict(X_test)\n",
    "    # Calculamos los valores de evaluación\n",
    "    positive_class_ratio = y_train_undersample.sum()/len(y_train_undersample)\n",
    "    accuracy = accuracy_score(y_test, y_pred)\n",
    "    precision = precision_score(y_test, y_pred)\n",
    "    recall = recall_score(y_test, y_pred)\n",
    "    f1 = f1_score(y_test, y_pred)\n",
    "    # Imprimimos los resultados\n",
    "    \n",
    "    print(\"Positivos del modelo:\" ,y_test.sum())\n",
    "    print(\"Positivos predecidos:\", y_pred.sum())\n",
    "    print(f\"Relación de los positivos entre modelo y prueba:{positive_class_ratio:.4f}\")\n",
    "    print(f\"Accuracy: {accuracy:.4f}\")\n",
    "    print(f\"Precision: {precision:.4f}\")\n",
    "    print(f\"Recall: {recall:.4f}\")\n",
    "    print(f\"F1 Score: {f1:.4f}\")\n",
    "    \n",
    "# Evaluación del modelo con submuestreo\n",
    "print(\"Arbol de decisión con Upsample\")\n",
    "evaluate_model(dtc, X_test, y_test)\n"
   ]
  },
  {
   "cell_type": "markdown",
   "metadata": {},
   "source": [
    "En este caso, el modelo de árbol de decisión con Upsample tuvo un mayor número de positivos predecidos en comparación con el modelo balanceado, con un valor de 1013. \n",
    "\n",
    "La relación de los positivos entre el modelo y la prueba fue de 0.5, lo que indica que el modelo predijo aproximadamente la misma cantidad de positivos que se encuentran en los datos de prueba. \n",
    "\n",
    "Sin embargo, el modelo tuvo una precisión baja de 0.3524, lo que significa que de todos los casos que predijo como positivos, solo el 35.2% eran realmente positivos.\n",
    "\n",
    "Por otro lado, el modelo tuvo un alto valor de recall de 0.6673, lo que significa que de todos los casos que son realmente positivos en los datos de prueba, el modelo predijo correctamente el 66.73%. \n",
    "\n",
    "El F1 Score, fue de 0.4612. \n",
    "\n",
    "La exactitud del modelo fue de 0.6664, que es más baja que la de los otros modelos, lo que significa que el modelo acertó en el 66.64% de las veces."
   ]
  },
  {
   "cell_type": "markdown",
   "metadata": {},
   "source": [
    "### Arbol de decision con Downsample"
   ]
  },
  {
   "cell_type": "code",
   "execution_count": 24,
   "metadata": {},
   "outputs": [
    {
     "name": "stdout",
     "output_type": "stream",
     "text": [
      "Arbol de decisión con Downsample:\n",
      "Positivos del modelo: 535\n",
      "Positivos predecidos: 501\n",
      "Relación de los positivos entre modelo y prueba:0.5000\n",
      "Accuracy: 0.7728\n",
      "Precision: 0.4671\n",
      "Recall: 0.4374\n",
      "F1 Score: 0.4517\n"
     ]
    }
   ],
   "source": [
    "# aplicar sobremuestreo\n",
    "oversample = RandomOverSampler(sampling_strategy='minority')\n",
    "X_train_oversample, y_train_oversample = oversample.fit_resample(X_train, y_train)\n",
    "\n",
    "# entrenar el modelo con el conjunto de entrenamiento con sobremuestreo\n",
    "dtc = DecisionTreeClassifier()\n",
    "dtc.fit(X_train_oversample, y_train_oversample)\n",
    "y_pred = dtc.predict(X_test)\n",
    "\n",
    "# Definimos una función para hacer la evaluación de cada modelo\n",
    "def evaluate_model(model, X_test, y_test):\n",
    "    # Hacemos la predicción sobre los datos de prueba\n",
    "    y_pred = model.predict(X_test)\n",
    "    # Calculamos los valores de evaluación\n",
    "    positive_class_ratio = y_train_oversample.sum()/len(y_train_oversample)\n",
    "    accuracy = accuracy_score(y_test, y_pred)\n",
    "    precision = precision_score(y_test, y_pred)\n",
    "    recall = recall_score(y_test, y_pred)\n",
    "    f1 = f1_score(y_test, y_pred)\n",
    "    # Imprimimos los resultados\n",
    "    \n",
    "    print(\"Positivos del modelo:\" ,y_test.sum())\n",
    "    print(\"Positivos predecidos:\", y_pred.sum())\n",
    "    print(f\"Relación de los positivos entre modelo y prueba:{positive_class_ratio:.4f}\")\n",
    "    print(f\"Accuracy: {accuracy:.4f}\")\n",
    "    print(f\"Precision: {precision:.4f}\")\n",
    "    print(f\"Recall: {recall:.4f}\")\n",
    "    print(f\"F1 Score: {f1:.4f}\")\n",
    "    \n",
    "# Evaluación del modelo con sobremuestreo\n",
    "print(\"Arbol de decisión con Downsample\")\n",
    "evaluate_model(dtc, X_test, y_test)"
   ]
  },
  {
   "cell_type": "markdown",
   "metadata": {},
   "source": [
    "Aca vemos que el modelo con downsample predijo casi lo misma cantidad de positivos que el balanceado, y  la relación entre los positivos del modelo y de los predicho fue del 50%, al igual que en el caso anterior del Upsample.\n",
    "\n",
    "Los valores de exactitud y precisión aumentaron en comparación al modelo de arbol de desicion con upsample.\n",
    "\n",
    "Pero el recall disminuyo del 66.64% al 43.74% y el F1 del 46.12% al 45.17%."
   ]
  },
  {
   "cell_type": "markdown",
   "metadata": {},
   "source": [
    "### Bosque aleatorio Balanceado/Upsample/Downsample"
   ]
  },
  {
   "cell_type": "code",
   "execution_count": 25,
   "metadata": {},
   "outputs": [
    {
     "name": "stdout",
     "output_type": "stream",
     "text": [
      "Modelo balanceado:\n",
      "Positivos del modelo: 268\n",
      "Positivos predecidos: 535\n",
      "Relación de los positivos entre modelo y prueba:0.2004\n",
      "Accuracy: 0.7728\n",
      "Precision: 0.4671\n",
      "Recall: 0.4374\n",
      "F1 Score: 0.4517\n",
      "========================================\n",
      "Modelo con Upsample:\n",
      "Positivos del modelo: 842\n",
      "Positivos predecidos: 535\n",
      "Relación de los positivos entre modelo y prueba:0.3368\n",
      "Accuracy: 0.7764\n",
      "Precision: 0.4857\n",
      "Recall: 0.7645\n",
      "F1 Score: 0.5940\n",
      "========================================\n",
      "Modelo con Downsample:\n",
      "Positivos del modelo: 369\n",
      "Positivos predecidos: 535\n",
      "Relación de los positivos entre modelo y prueba:0.1476\n",
      "Accuracy: 0.8440\n",
      "Precision: 0.6965\n",
      "Recall: 0.4804\n",
      "F1 Score: 0.5686\n",
      "========================================\n"
     ]
    }
   ],
   "source": [
    "# Dividimos los datos en conjuntos de entrenamiento y prueba\n",
    "X_train, X_test, y_train, y_test = train_test_split(features, target, test_size=0.25, random_state=12345)\n",
    "\n",
    "# Aplicamos Upsample\n",
    "undersample = RandomUnderSampler(sampling_strategy='majority')\n",
    "X_train_under, y_train_under = undersample.fit_resample(X_train, y_train)\n",
    "\n",
    "# Aplicamos Downsample\n",
    "oversample = RandomOverSampler(sampling_strategy='minority')\n",
    "X_train_over, y_train_over = oversample.fit_resample(X_train, y_train)\n",
    "\n",
    "# Entrenamos el modelo balanceado\n",
    "rf_model = RandomForestClassifier(class_weight= \"balanced\", random_state=12345)\n",
    "rf_model.fit(X_train, y_train)\n",
    "\n",
    "# Calculamos los valores de evaluación\n",
    "positive_class_ratio =  y_pred.sum()/len(y_pred)\n",
    "accuracy = accuracy_score(y_test, y_pred)\n",
    "precision = precision_score(y_test, y_pred)\n",
    "recall = recall_score(y_test, y_pred)\n",
    "f1 = f1_score(y_test, y_pred)\n",
    "    \n",
    "# Hacemos la evaluación del modelo balanceado\n",
    "print(\"Modelo balanceado:\")\n",
    "y_pred = rf_model.predict(X_test)\n",
    "print(\"Positivos del modelo:\", sum(y_pred))\n",
    "print(\"Positivos predecidos:\", sum(y_test))\n",
    "print(f\"Relación de los positivos entre modelo y prueba:{positive_class_ratio:.4f}\")\n",
    "print(f\"Accuracy: {accuracy:.4f}\")\n",
    "print(f\"Precision: {precision:.4f}\")\n",
    "print(f\"Recall: {recall:.4f}\")\n",
    "print(f\"F1 Score: {f1:.4f}\")\n",
    "print(\"=\" * 40)\n",
    "\n",
    "# Entrenamos el modelo con Upsample\n",
    "rf_model_under = RandomForestClassifier(random_state=12345)\n",
    "rf_model_under.fit(X_train_under, y_train_under)\n",
    "y_pred_under = rf_model_under.predict(X_test)\n",
    "\n",
    "# Calculamos los valores de evaluación\n",
    "positive_class_ratio =  y_pred_under.sum()/len(y_pred_under)\n",
    "accuracy = accuracy_score(y_test, y_pred_under)\n",
    "precision = precision_score(y_test, y_pred_under)\n",
    "recall =  recall_score(y_test, y_pred_under)\n",
    "f1 = f1_score(y_test, y_pred_under)\n",
    "\n",
    "# Hacemos la evaluación del modelo con Upsample\n",
    "print(\"Modelo con Upsample:\")\n",
    "print(\"Positivos del modelo:\", sum(y_pred_under))\n",
    "print(\"Positivos predecidos:\", sum(y_test))\n",
    "print(f\"Relación de los positivos entre modelo y prueba:{positive_class_ratio:.4f}\")\n",
    "print(f\"Accuracy: {accuracy:.4f}\")\n",
    "print(f\"Precision: {precision:.4f}\")\n",
    "print(f\"Recall: {recall:.4f}\")\n",
    "print(f\"F1 Score: {f1:.4f}\")\n",
    "print(\"=\" * 40)\n",
    "\n",
    "# Entrenamos el modelo con Downsample\n",
    "rf_model_over = RandomForestClassifier(random_state=12345)\n",
    "rf_model_over.fit(X_train_over, y_train_over)\n",
    "y_pred_over = rf_model_over.predict(X_test)\n",
    "\n",
    "# Calculamos los valores de evaluación\n",
    "positive_class_ratio =  y_pred_over.sum()/len(y_pred_over)\n",
    "accuracy = accuracy_score(y_test, y_pred_over)\n",
    "precision = precision_score(y_test, y_pred_over)\n",
    "recall =  recall_score(y_test, y_pred_over)\n",
    "f1 = f1_score(y_test, y_pred_over)\n",
    "\n",
    "# Hacemos la evaluación del modelo con Downsample\n",
    "print(\"Modelo con Downsample:\")\n",
    "print(\"Positivos del modelo:\", sum(y_pred_over))\n",
    "print(\"Positivos predecidos:\", sum(y_test))\n",
    "print(f\"Relación de los positivos entre modelo y prueba:{positive_class_ratio:.4f}\")\n",
    "print(f\"Accuracy: {accuracy:.4f}\")\n",
    "print(f\"Precision: {precision:.4f}\")\n",
    "print(f\"Recall: {recall:.4f}\")\n",
    "print(f\"F1 Score: {f1:.4f}\")\n",
    "print(\"=\" * 40)"
   ]
  },
  {
   "cell_type": "markdown",
   "metadata": {},
   "source": [
    "Si observamos el modelo de bosque aleatorio con los 3 diferentes metodos de remuestreo, podemos ver que el metodo de Downsample fue el mejor en comparación a los otros 2.\n",
    "\n",
    "- La sensibilidad fue del 84.4%\n",
    "- La precision fuel del 69.65% \n",
    "- Pero el recall solo fue del 48.04%\n",
    "- Por otro lado su F1 fue del 56.86% con el F1 de metodo de Upsample que fue del 59.40%\n",
    "\n",
    "Como el objetivo es equilibrar la precisión y la sensibilidad, entonces el modelo con downsample es la mejor opción, que si bien  tiene una puntuación F1 de 56.86%, este metodo combina tanto la precisión como la sensibilidad en una sola métrica. Además, tiene una precisión del 69.65% , lo que significa que es mejor para predecir verdaderos positivos."
   ]
  },
  {
   "cell_type": "markdown",
   "metadata": {},
   "source": [
    "### Bosque de decisión con SMOTE"
   ]
  },
  {
   "cell_type": "code",
   "execution_count": 26,
   "metadata": {},
   "outputs": [
    {
     "name": "stdout",
     "output_type": "stream",
     "text": [
      "Positivos del modelo: 268\n",
      "Positivos predecidos: 535\n",
      "Relación de los positivos entre modelo y prueba:0.2400\n",
      "Accuracy: 0.8468\n",
      "Precision: 0.7836\n",
      "Recall: 0.3925\n",
      "F1 Score: 0.5230\n"
     ]
    }
   ],
   "source": [
    "# dividir los datos en conjuntos de entrenamiento y prueba\n",
    "X_train, X_test, y_train, y_test = train_test_split(features, target, test_size=0.25, random_state=12345)\n",
    "\n",
    "# aplicar SMOTE en los datos de entrenamiento\n",
    "smote = SMOTE(random_state=12345)\n",
    "X_train_smote, y_train_smote = smote.fit_resample(X_train, y_train)\n",
    "\n",
    "# crear el modelo de bosque aleatorio\n",
    "rf_1 = RandomForestClassifier(random_state=12345)\n",
    "\n",
    "# entrenar el modelo con los datos de entrenamiento balanceados\n",
    "rf_1.fit(X_train_smote, y_train_smote)\n",
    "\n",
    "# hacer predicciones con los datos de prueba\n",
    "y_pred_1 = rf_1.predict(X_test)\n",
    "\n",
    "# Calculamos los valores de evaluación\n",
    "positive_class_ratio =  y_pred_1.sum()/len(y_pred_1)\n",
    "accuracy = accuracy_score(y_test, y_pred)\n",
    "precision = precision_score(y_test, y_pred)\n",
    "recall = recall_score(y_test, y_pred)\n",
    "f1 = f1_score(y_test, y_pred)\n",
    "    \n",
    "# Hacemos la evaluación del modelo sin balancear\n",
    "print(\"Positivos del modelo:\", sum(y_pred))\n",
    "print(\"Positivos predecidos:\", sum(y_test))\n",
    "print(f\"Relación de los positivos entre modelo y prueba:{positive_class_ratio:.4f}\")\n",
    "print(f\"Accuracy: {accuracy:.4f}\")\n",
    "print(f\"Precision: {precision:.4f}\")\n",
    "print(f\"Recall: {recall:.4f}\")\n",
    "print(f\"F1 Score: {f1:.4f}\")"
   ]
  },
  {
   "cell_type": "markdown",
   "metadata": {},
   "source": [
    "En este caso la tecnica de `SMOTE` tiene una mejor precision que el modelo de `bosque aleatorio` con Downsample con casi un 10% mejor, el accuracy es similar, pero su recall es menor y su F1 tambien."
   ]
  },
  {
   "cell_type": "markdown",
   "metadata": {},
   "source": [
    "## Mejoramiento del Modelo de Bosque Aleatorio"
   ]
  },
  {
   "cell_type": "markdown",
   "metadata": {},
   "source": [
    "Ya vimos que el mejor modelo es el del `Bosque Aleatorio`, ahora voy a buscar mejorarlo para ello usaremos la función `GridSearchCV`para buscar los mejores hiperparametros de nuestro bosque de desiciones para aumentar el F1, ya que el banco nos pide que sea un F1 de 0.59 en adelante, y lo mejor que obtuvimos fue  F1 Score de 0.5940, con el modelo del bosque de decisión pero su precisión era del 0.4857. \n",
    "\n",
    "Vamos a tratar de mejorar estas metricas."
   ]
  },
  {
   "cell_type": "markdown",
   "metadata": {},
   "source": [
    "### Busqueda de los mejores hiperparametros para el metodo SMOTE"
   ]
  },
  {
   "cell_type": "code",
   "execution_count": 27,
   "metadata": {
    "scrolled": true
   },
   "outputs": [
    {
     "name": "stdout",
     "output_type": "stream",
     "text": [
      "Mejores parámetros encontrados:\n",
      "{'max_depth': 20, 'min_samples_leaf': 1, 'min_samples_split': 2, 'n_estimators': 200}\n",
      "Mejor puntuación F1: 0.8560\n"
     ]
    }
   ],
   "source": [
    "# Definir los valores que queremos probar para cada hiperparámetro\n",
    "param_grid = {\n",
    "    'n_estimators': [100, 200],\n",
    "    'max_depth': [5, 10, 20],\n",
    "    'min_samples_split': [2, 5, 10],\n",
    "    'min_samples_leaf': [1, 2, 4]\n",
    "}\n",
    "\n",
    "# Crear el modelo de bosque aleatorio\n",
    "rf = RandomForestClassifier(random_state=12345)\n",
    "\n",
    "# Utilizar GridSearchCV para probar todas las combinaciones posibles de hiperparámetros\n",
    "grid_search = GridSearchCV(estimator=rf, param_grid=param_grid, scoring='f1', cv=5)\n",
    "\n",
    "# Ajustar el modelo utilizando los datos de entrenamiento\n",
    "grid_search.fit(X_train_smote, y_train_smote)\n",
    "\n",
    "# Imprimir los mejores parámetros y la mejor puntuación de F1\n",
    "print(\"Mejores parámetros encontrados:\")\n",
    "print(grid_search.best_params_)\n",
    "print(f\"Mejor puntuación F1: {grid_search.best_score_:.4f}\")\n"
   ]
  },
  {
   "cell_type": "markdown",
   "metadata": {},
   "source": [
    "Vemos que los mejores hiperparametros para `SMOTE` son 'max_depth': 20, 'min_samples_leaf': 1, 'min_samples_split': 2, 'n_estimators': 200 y con un F1 del 85.6%."
   ]
  },
  {
   "cell_type": "markdown",
   "metadata": {},
   "source": [
    "### Busqueda de los mejores hiperparametros para el metodo Downsample"
   ]
  },
  {
   "cell_type": "code",
   "execution_count": 28,
   "metadata": {},
   "outputs": [
    {
     "name": "stdout",
     "output_type": "stream",
     "text": [
      "Mejores parámetros encontrados:\n",
      "{'max_depth': 20, 'min_samples_leaf': 1, 'min_samples_split': 2, 'n_estimators': 200}\n",
      "Mejor puntuación F1: 0.9532\n"
     ]
    }
   ],
   "source": [
    "# Definir los valores que queremos probar para cada hiperparámetro\n",
    "param_grid = {\n",
    "    'n_estimators': [100, 200],\n",
    "    'max_depth': [5, 10, 20],\n",
    "    'min_samples_split': [2, 5, 10],\n",
    "    'min_samples_leaf': [1, 2, 4]\n",
    "}\n",
    "\n",
    "# Crear el modelo de bosque aleatorio\n",
    "rf_model_over = RandomForestClassifier(random_state=12345)\n",
    "\n",
    "# Utilizar GridSearchCV para probar todas las combinaciones posibles de hiperparámetros\n",
    "grid_search = GridSearchCV(estimator=rf_model_over, param_grid=param_grid, scoring='f1', cv=5)\n",
    "\n",
    "# Ajustar el modelo utilizando los datos de entrenamiento\n",
    "grid_search.fit(X_train_over, y_train_over)\n",
    "\n",
    "# Imprimir los mejores parámetros y la mejor puntuación de F1\n",
    "print(\"Mejores parámetros encontrados:\")\n",
    "print(grid_search.best_params_)\n",
    "print(f\"Mejor puntuación F1: {grid_search.best_score_:.4f}\")"
   ]
  },
  {
   "cell_type": "markdown",
   "metadata": {},
   "source": [
    "Aca vemos que para el metodo de `Downsample` los mejores hiperparametros son los mismo que en `SMOTE` pero el F1 aumento a 95.3%"
   ]
  },
  {
   "cell_type": "markdown",
   "metadata": {},
   "source": [
    "### Aplicación de los hiperparametros para Downsample"
   ]
  },
  {
   "cell_type": "markdown",
   "metadata": {},
   "source": [
    "Usamos los parametros que encontramos para Downsample y vemos los valores que obtuvimos de Accuracy, Precision, Recall y F1"
   ]
  },
  {
   "cell_type": "code",
   "execution_count": 29,
   "metadata": {},
   "outputs": [
    {
     "name": "stdout",
     "output_type": "stream",
     "text": [
      "Positivos del modelo: 414\n",
      "Positivos predecidos: 535\n",
      "Relación de los positivos entre modelo y prueba:0.1656\n",
      "Accuracy: 0.8404\n",
      "Precision: 0.6643\n",
      "Recall: 0.5140\n",
      "F1 Score: 0.5796\n"
     ]
    }
   ],
   "source": [
    "# Definimos los hiperparámetros\n",
    "params = {'max_depth': 20, 'min_samples_leaf': 1, 'min_samples_split': 2, 'n_estimators': 100}\n",
    "\n",
    "# Creamos el modelo con los hiperparámetros definidos\n",
    "rf_3 = RandomForestClassifier(**params)\n",
    "\n",
    "# Entrenamos el modelo con los datos de entrenamiento\n",
    "rf_3.fit(X_train_over, y_train_over)\n",
    "\n",
    "# Realizamos las predicciones con los datos de prueba\n",
    "y_pred_3= rf_3.predict(X_test)\n",
    "\n",
    "# Calculamos los valores de evaluación\n",
    "positive_class_ratio = y_pred_3.sum() / len(y_pred_3)\n",
    "accuracy = accuracy_score(y_test, y_pred_3)\n",
    "precision = precision_score(y_test, y_pred_3)\n",
    "recall = recall_score(y_test, y_pred_3)\n",
    "f1 = f1_score(y_test, y_pred_3)\n",
    "\n",
    "# Imprimimos las métricas de evaluación\n",
    "print(\"Positivos del modelo:\", sum(y_pred_3))\n",
    "print(\"Positivos predecidos:\", sum(y_test))\n",
    "print(f\"Relación de los positivos entre modelo y prueba:{positive_class_ratio:.4f}\")\n",
    "print(f\"Accuracy: {accuracy:.4f}\")\n",
    "print(f\"Precision: {precision:.4f}\")\n",
    "print(f\"Recall: {recall:.4f}\")\n",
    "print(f\"F1 Score: {f1:.4f}\")"
   ]
  },
  {
   "cell_type": "markdown",
   "metadata": {},
   "source": [
    "Si comparamos las metricas obtenidas con hiperparametros y sin hiperparametros vemos que son muy parecidas.\n",
    "\n",
    "Sin hiperparametros las mejores metricas fueron: \n",
    "- Accuracy: 0.8440\n",
    "- Precision: 0.6965\n",
    "\n",
    "Con hiperparametros las mejores metricas fueron:\n",
    "\n",
    "- Positivos del modelo: 414\n",
    "- Relación de los positivos entre modelo y prueba:0.1656\n",
    "- Recall: 0.5240\n",
    "- F1 Score: 0.5796"
   ]
  },
  {
   "cell_type": "markdown",
   "metadata": {},
   "source": [
    "### Aplicación de los hiperparametros para SMOTE"
   ]
  },
  {
   "cell_type": "code",
   "execution_count": 30,
   "metadata": {},
   "outputs": [
    {
     "name": "stdout",
     "output_type": "stream",
     "text": [
      "Positivos del modelo: 595\n",
      "Positivos predecidos: 535\n",
      "Relación de los positivos entre modelo y prueba:0.2380\n",
      "Accuracy: 0.8144\n",
      "Precision: 0.5597\n",
      "Recall: 0.6224\n",
      "F1 Score: 0.5894\n"
     ]
    }
   ],
   "source": [
    "# Definimos los hiperparámetros\n",
    "params = {'max_depth': 20, 'min_samples_leaf': 1, 'min_samples_split': 2, 'n_estimators': 100}\n",
    "\n",
    "# Creamos el modelo de bosque aleatorio con los hiperparámetros encontrados\n",
    "rf_model_smote = RandomForestClassifier(**params, random_state=12345)\n",
    "\n",
    "# Ajustamos el modelo utilizando los datos de entrenamiento con SMOTE\n",
    "rf_model_smote.fit(X_train_smote, y_train_smote)\n",
    "\n",
    "# Realizamos las predicciones con los datos de prueba\n",
    "y_pred_smote = rf_model_smote.predict(X_test)\n",
    "\n",
    "# Calculamos los valores de evaluación\n",
    "positive_class_ratio = y_pred_smote.sum() / len(y_pred_smote)\n",
    "accuracy = accuracy_score(y_test, y_pred_smote)\n",
    "precision = precision_score(y_test, y_pred_smote)\n",
    "recall = recall_score(y_test, y_pred_smote)\n",
    "f1 = f1_score(y_test, y_pred_smote)\n",
    "\n",
    "# Imprimimos las métricas de evaluación\n",
    "print(\"Positivos del modelo:\", sum(y_pred_smote))\n",
    "print(\"Positivos predecidos:\", sum(y_test))\n",
    "print(f\"Relación de los positivos entre modelo y prueba:{positive_class_ratio:.4f}\")\n",
    "print(f\"Accuracy: {accuracy:.4f}\")\n",
    "print(f\"Precision: {precision:.4f}\")\n",
    "print(f\"Recall: {recall:.4f}\")\n",
    "print(f\"F1 Score: {f1:.4f}\")"
   ]
  },
  {
   "cell_type": "markdown",
   "metadata": {},
   "source": [
    "En este caso si vemos una mejoria cuando aplicamos los hiperparametros sobre todo en los positivos que es capaz de detectar el modelo pasamos de 268 casos a 595 casos, el recall ahora es del 0.6224 cuando antes era solo del 0.3925 y el F1 tambien mejoro de 0.5230 a 0.5894 (casi el 0.59 que pide el banco).\n",
    "\n",
    "Es dificil tener un modelo donde todas las metricas sean las mejores siempre, en este caso las metricas que bajaron fueron.\n",
    "- Relación de los positivos entre modelo y prueba (antes = 0.2400, ahora = 0.2380)\n",
    "- Accuracy (antes = 0.8468, ahora = 0.8144)\n",
    "- Precision (antes = 0.7836, ahora = 0.5597)"
   ]
  },
  {
   "cell_type": "markdown",
   "metadata": {},
   "source": [
    "## Graficos"
   ]
  },
  {
   "cell_type": "markdown",
   "metadata": {},
   "source": [
    "### Modelo de Regresión Logistica sin balancear"
   ]
  },
  {
   "cell_type": "code",
   "execution_count": 31,
   "metadata": {},
   "outputs": [
    {
     "data": {
      "image/png": "[encoded data removed]",
      "text/plain": [
       "<Figure size 432x288 with 1 Axes>"
      ]
     },
     "metadata": {
      "needs_background": "light"
     },
     "output_type": "display_data"
    }
   ],
   "source": [
    "# Modelo\n",
    "model = LogisticRegression(random_state=12345, class_weight=None, solver='liblinear')\n",
    "model.fit(features_train, target_train)\n",
    "\n",
    "# Obtener las probabilidades de la clase positiva para el conjunto de prueba\n",
    "probas_test = model.predict_proba(features_test)[:, 1]\n",
    "\n",
    "# Calcular el valor del AUC-ROC\n",
    "fpr, tpr, thresholds = roc_curve(target_test, probas_test)\n",
    "roc_auc = auc(fpr, tpr)\n",
    "\n",
    "# Graficar la curva ROC\n",
    "plt.plot(fpr, tpr,  lw=2, label='ROC curve (AUC = %0.4f)' % roc_auc)\n",
    "plt.plot([0, 1], [0, 1], lw=2, linestyle='--')\n",
    "plt.xlim([0.0, 1.0])\n",
    "plt.ylim([0.0, 1.05])\n",
    "plt.xlabel('False Positive Rate')\n",
    "plt.ylabel('True Positive Rate')\n",
    "plt.title('Receiver operating characteristic')\n",
    "plt.legend(loc=\"lower right\")\n",
    "plt.show()"
   ]
  },
  {
   "cell_type": "markdown",
   "metadata": {},
   "source": [
    "### Modelo de Bosque Aleatorio con downsample"
   ]
  },
  {
   "cell_type": "code",
   "execution_count": 42,
   "metadata": {},
   "outputs": [
    {
     "data": {
      "image/png": "[encoded data removed]",
      "text/plain": [
       "<Figure size 432x288 with 1 Axes>"
      ]
     },
     "metadata": {
      "needs_background": "light"
     },
     "output_type": "display_data"
    }
   ],
   "source": [
    "# Calcular las probabilidades de predicción para los datos de prueba\n",
    "y_proba = rf_3.predict_proba(X_test)\n",
    "\n",
    "# Seleccionar la columna de la probabilidad de la clase positiva\n",
    "fpr, tpr, _ = roc_curve(y_test, y_proba[:, 1])\n",
    "\n",
    "# Calcular el AUC-ROC\n",
    "roc_auc = auc(fpr, tpr)\n",
    "\n",
    "# Graficar la curva AUC-ROC\n",
    "plt.figure()\n",
    "lw = 2\n",
    "plt.plot(fpr, tpr, lw=lw, label='Curva ROC (AUC = %0.2f)' % roc_auc)\n",
    "plt.plot([0, 1], [0, 1], lw=lw, linestyle='--')\n",
    "plt.xlabel('Tasa de falsos positivos')\n",
    "plt.ylabel('Tasa de verdaderos positivos')\n",
    "plt.title('Curva AUC-ROC')\n",
    "plt.legend(loc=\"lower right\")\n",
    "plt.show()\n"
   ]
  },
  {
   "cell_type": "markdown",
   "metadata": {},
   "source": [
    "### Modelo  de Bosque Aleatorio con SMOTE"
   ]
  },
  {
   "cell_type": "code",
   "execution_count": 44,
   "metadata": {},
   "outputs": [
    {
     "data": {
      "image/png": "[encoded data removed]",
      "text/plain": [
       "<Figure size 432x288 with 1 Axes>"
      ]
     },
     "metadata": {
      "needs_background": "light"
     },
     "output_type": "display_data"
    }
   ],
   "source": [
    "# Calcular las probabilidades de predicción para los datos de prueba\n",
    "y_proba = rf_model_smote.predict_proba(X_test)\n",
    "\n",
    "# Seleccionar la columna de la probabilidad de la clase positiva\n",
    "fpr, tpr, _ = roc_curve(y_test, y_proba[:, 1])\n",
    "\n",
    "# Calcular el AUC-ROC\n",
    "roc_auc = auc(fpr, tpr)\n",
    "\n",
    "# Graficar la curva AUC-ROC\n",
    "plt.figure()\n",
    "lw = 2\n",
    "plt.plot(fpr, tpr, lw=lw, label='Curva ROC (AUC = %0.2f)' % roc_auc)\n",
    "plt.plot([0, 1], [0, 1], lw=lw, linestyle='--')\n",
    "plt.xlabel('Tasa de falsos positivos')\n",
    "plt.ylabel('Tasa de verdaderos positivos')\n",
    "plt.title('Curva AUC-ROC')\n",
    "plt.legend(loc=\"lower right\")\n",
    "plt.show()\n"
   ]
  },
  {
   "cell_type": "markdown",
   "metadata": {},
   "source": [
    "Cuando comparamos las areas bajo la curva (AUC), vemos como mejoran a la hora de predecir un cliente que se puede ir del banco, pasamos del 0.67 en el caso del modelo sin balancear, al 0.84 en el caso del modelo de bosque aleatorio con downsample y al 0.82 cuando el metodo es de bosque aleatorio con SMOTE."
   ]
  },
  {
   "cell_type": "markdown",
   "metadata": {},
   "source": [
    "### Importancia del features en relación al target"
   ]
  },
  {
   "cell_type": "code",
   "execution_count": 49,
   "metadata": {},
   "outputs": [
    {
     "data": {
      "image/png": "[encoded data removed]",
      "text/plain": [
       "<Figure size 864x576 with 1 Axes>"
      ]
     },
     "metadata": {
      "needs_background": "light"
     },
     "output_type": "display_data"
    }
   ],
   "source": [
    "# Obtenemos la importancia de cada característica\n",
    "importances = rf_3.feature_importances_\n",
    "\n",
    "# Creamos un dataframe con la importancia de cada característica\n",
    "df_importances = pd.DataFrame({'feature': X_train.columns, 'importance': importances})\n",
    "\n",
    "# Ordenamos el dataframe por importancia descendente\n",
    "df_importances = df_importances.sort_values('importance', ascending=False)\n",
    "\n",
    "# Creamos un gráfico de barras para visualizar la importancia de cada característica\n",
    "plt.figure(figsize=(12, 8))\n",
    "sns.barplot(x='importance', y='feature', data=df_importances)\n",
    "plt.xlabel('Importancia')\n",
    "plt.ylabel('Característica')\n",
    "plt.title('Importancia del features en relación al target')\n",
    "plt.show()"
   ]
  },
  {
   "cell_type": "markdown",
   "metadata": {},
   "source": [
    "Aqui hacemos un grafico donde vemos cuales de los `features` son los mas importantes a la hora de que el cliente decida dejar el banco según nuestro modelo de bosque aleatorio con downsample. \n",
    "\n",
    "Vemos que el que tiene mas peso es la edad, ya algo habiamos viste anteriormente cuando comparamos los `features` con los `target` sin haber aplicado ningun modelo de predición, lo que es una revelación es que `EstimatedSalary` tiene mayor peso que `NumOfProducts` ya que habiamos visto que si poseian 3 o 4 productos eran prospensos a dejar el banco y ahora cuando aplicamos el modelo vemos que no es tan asi, el salario es mas importante."
   ]
  },
  {
   "cell_type": "markdown",
   "metadata": {},
   "source": [
    "## Conclusiones"
   ]
  },
  {
   "cell_type": "markdown",
   "metadata": {},
   "source": [
    "Cuando tenemos datos del DataFrame desbanceados, estos van afectar al modelo de predición, no es aconsejable realizar un modelo sin antes balancearlo. Puede ser con cualquier de los metodos aplicados arriba.\n",
    "\n",
    "De todos los modelos el mejor es siempre el de `Bosque aleatorio`, pero su contra es que se tarda mucho tiempo en procesar los datos.\n",
    "\n",
    "Más alla de ellos se encontro 3 metodos que en mi opinión son los mejores a la hora de predecir si un cliente va abandonar el banco o no:\n",
    "\n",
    "- `Bosque aleatorio con Upsample`: \n",
    "    - Accuracy: 77,64%\n",
    "    - Precision: 48,45%\n",
    "    - Recall: 76,45%\n",
    "    - F1: 59,40%\n",
    "    \n",
    "    En este caso si bien el F1 cumple el objetivo del banco, solo  reconoce al 48,5% de los potenciales clientes a abandonar el banco.\n",
    "- `Bosque aleatorio con hiperparametros y Downsample`:\n",
    "    - Accuracy: 84,04%\n",
    "    - Precision: 66,43%\n",
    "    - Recall: 51,40%\n",
    "    - F1: 57,96% \n",
    "    \n",
    "    Con este metodo no se alcanza el F1 objetivo por el banco pero esta muy cerca. En comparación al metodo anterior, este puede reconocer con un 66,4% a los potenciales clientes que fueran abandonar el banco, por lo que es un metodo que recomiendo y que se puede tener en cuenta.\n",
    "- `Bosque aleatorio con hiperparametros y SMOTE`:\n",
    "    - Accuracy: 81,44%\n",
    "    - Precision: 55,97%\n",
    "    - Recall: 62,24%\n",
    "    - F1: 58,94% \n",
    "    \n",
    "    Este metodo al igual que el anterior no cumple con el F1 solicitado por el banco pero esta muy cerca al requerido con un F1  de 58,9%. Este tambien es mejor que el primer metodo porque tiene un 55,9% de reconocer a un cliente que abandana el banco, es por eso que tambien lo recomiendo.\n",
    "   \n",
    "\n",
    "Se recomienda tambien hacer algún plan de marketing  de pensión para las personas mayores de 50 años que son clientes del banco, ya estas son las mas probables de irse del banco, sin dejar de tener en cuenta que las 4 siguientes razones para abandonar el banco son`EstimatedSalary`, `CreditScore`, `Balance` y `NumOfProducts`, si queremos evitar el abandono del banco."
   ]
  }
 ],
 "metadata": {
  "kernelspec": {
   "display_name": "Python 3 (ipykernel)",
   "language": "python",
   "name": "python3"
  },
  "language_info": {
   "codemirror_mode": {
    "name": "ipython",
    "version": 3
   },
   "file_extension": ".py",
   "mimetype": "text/x-python",
   "name": "python",
   "nbconvert_exporter": "python",
   "pygments_lexer": "ipython3",
   "version": "3.9.13"
  },
  "toc": {
   "base_numbering": 1,
   "nav_menu": {},
   "number_sections": true,
   "sideBar": true,
   "skip_h1_title": true,
   "title_cell": "Table of Contents",
   "title_sidebar": "Contents",
   "toc_cell": false,
   "toc_position": {
    "height": "calc(100% - 180px)",
    "left": "10px",
    "top": "150px",
    "width": "243.865px"
   },
   "toc_section_display": true,
   "toc_window_display": false
  }
 },
 "nbformat": 4,
 "nbformat_minor": 2
}
